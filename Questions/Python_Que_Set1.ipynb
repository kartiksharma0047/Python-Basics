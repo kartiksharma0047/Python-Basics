{
  "nbformat": 4,
  "nbformat_minor": 0,
  "metadata": {
    "colab": {
      "provenance": []
    },
    "kernelspec": {
      "name": "python3",
      "display_name": "Python 3"
    },
    "language_info": {
      "name": "python"
    }
  },
  "cells": [
    {
      "cell_type": "code",
      "execution_count": null,
      "metadata": {
        "id": "GUuZMLSE1w6U"
      },
      "outputs": [],
      "source": [
        "# Here are questions and answers of python (Set Easy)"
      ]
    },
    {
      "cell_type": "code",
      "source": [
        "# Que 1 :- Write a Python program to check if a number is even or odd.\n",
        "input1=int(input(\"Enter a number: \"))\n",
        "if (input1%2)==0:\n",
        "  print(\"Even\")\n",
        "else:\n",
        "  print(\"Odd\")"
      ],
      "metadata": {
        "colab": {
          "base_uri": "https://localhost:8080/"
        },
        "id": "nxVwJxK_15mk",
        "outputId": "bb0c37e1-fcf8-46dd-b900-35ddf97761cd"
      },
      "execution_count": 32,
      "outputs": [
        {
          "output_type": "stream",
          "name": "stdout",
          "text": [
            "Enter a number: 20\n",
            "Even\n"
          ]
        }
      ]
    },
    {
      "cell_type": "code",
      "source": [
        "  # Que 2 :- Write a function that takes two numbers and returns their sum.\n",
        "  input2=int(input(\"Enter a number: \"))\n",
        "  input3=int(input(\"Enter a number: \"))\n",
        "  def sum(a,b):\n",
        "    return a+b\n",
        "  sum(input2,input3)"
      ],
      "metadata": {
        "colab": {
          "base_uri": "https://localhost:8080/"
        },
        "id": "RM06Jys_2izu",
        "outputId": "376e966b-039b-4636-d7ec-3c544e21cae4"
      },
      "execution_count": 33,
      "outputs": [
        {
          "name": "stdout",
          "output_type": "stream",
          "text": [
            "Enter a number: 3\n",
            "Enter a number: 1\n"
          ]
        },
        {
          "output_type": "execute_result",
          "data": {
            "text/plain": [
              "4"
            ]
          },
          "metadata": {},
          "execution_count": 33
        }
      ]
    },
    {
      "cell_type": "code",
      "source": [
        "# Que 3 :- Write a Python program to find the largest number among three numbers in list.\n",
        "# For easy code use max() function to find the largest of them all\n",
        "lis=[input1,input2,input3]\n",
        "highest=lis[2]\n",
        "for ele in lis:\n",
        "  if(ele>=highest):\n",
        "    highest=ele\n",
        "print(highest)"
      ],
      "metadata": {
        "colab": {
          "base_uri": "https://localhost:8080/"
        },
        "id": "wx1k8fdz28jw",
        "outputId": "d9bfeccc-3bbb-4a44-8054-b8404f573120"
      },
      "execution_count": 35,
      "outputs": [
        {
          "output_type": "stream",
          "name": "stdout",
          "text": [
            "20\n"
          ]
        }
      ]
    },
    {
      "cell_type": "code",
      "source": [
        "# Que 4 :- Write a Python program that takes a string and prints the first and last character.\n",
        "# string[-1] will give last index.\n",
        "string=\"My Name is Anthony Gonsalves\"\n",
        "print(f\"First And Last Character: {string[0]} and {string[-1]}\")"
      ],
      "metadata": {
        "colab": {
          "base_uri": "https://localhost:8080/"
        },
        "id": "2yHnIJPw36TD",
        "outputId": "29698140-14ef-4c8b-f4b3-40a22abf8cda"
      },
      "execution_count": 36,
      "outputs": [
        {
          "output_type": "stream",
          "name": "stdout",
          "text": [
            "First And Last Character: M and s\n"
          ]
        }
      ]
    },
    {
      "cell_type": "code",
      "source": [
        "# Que 5 :- Write a program to count the number of vowels in a given string.\n",
        "vowelCount=0\n",
        "vowels=['a','e','i','o','u']\n",
        "for char in string:\n",
        "  for vowel in vowels:\n",
        "    if(char.lower()==vowel):\n",
        "      vowelCount=vowelCount+1\n",
        "print(f\"Total No. of vowel: {vowelCount}\")\n",
        "\n",
        "# Easier Way :-\n",
        "# for char in string.lower():\n",
        "#     if char in vowels:\n",
        "#         vowelCount += 1"
      ],
      "metadata": {
        "id": "i9UfV-f95hvn",
        "colab": {
          "base_uri": "https://localhost:8080/"
        },
        "outputId": "6b5c2d27-5b55-4219-f1b9-5e3a1d7133fe"
      },
      "execution_count": 10,
      "outputs": [
        {
          "output_type": "stream",
          "name": "stdout",
          "text": [
            "Total No. of vowel: 8\n"
          ]
        }
      ]
    },
    {
      "cell_type": "code",
      "source": [
        "# Que 6 :- Write a Python program that prints all numbers from 1 to 10 using a loop.\n",
        "for i in range(1,11):\n",
        "  print(i)"
      ],
      "metadata": {
        "colab": {
          "base_uri": "https://localhost:8080/"
        },
        "id": "_7-zCJCwarCV",
        "outputId": "0d549b74-586f-4deb-d27f-67112f2960de"
      },
      "execution_count": 13,
      "outputs": [
        {
          "output_type": "stream",
          "name": "stdout",
          "text": [
            "1\n",
            "2\n",
            "3\n",
            "4\n",
            "5\n",
            "6\n",
            "7\n",
            "8\n",
            "9\n",
            "10\n"
          ]
        }
      ]
    },
    {
      "cell_type": "code",
      "source": [
        "# Que 7 :- Write a function that takes a list and returns the sum of all elements.\n",
        "nums=[1,2,3,4,5,6,7,8,9,10]\n",
        "def listSum(l):\n",
        "  total=0\n",
        "  for num in l:\n",
        "    total=total+num\n",
        "  return total\n",
        "listSum(nums)"
      ],
      "metadata": {
        "colab": {
          "base_uri": "https://localhost:8080/"
        },
        "id": "03B-dnA2c4-I",
        "outputId": "c26114e8-1359-4818-c543-66966f05e903"
      },
      "execution_count": 19,
      "outputs": [
        {
          "output_type": "execute_result",
          "data": {
            "text/plain": [
              "55"
            ]
          },
          "metadata": {},
          "execution_count": 19
        }
      ]
    },
    {
      "cell_type": "code",
      "source": [
        "# Que 8 :- Write a Python program that checks if a given string is a palindrome.\n",
        "string2=str(input(\"Enter a string: \")).lower()\n",
        "if (string2==string2[::-1]):\n",
        "  print(\"Palindrome\")\n",
        "else:\n",
        "  print(\"Not Palindrome\")"
      ],
      "metadata": {
        "colab": {
          "base_uri": "https://localhost:8080/"
        },
        "id": "HLMn_LGxeUuO",
        "outputId": "3e088f8e-eb6a-430e-a082-f1a496d10d4f"
      },
      "execution_count": 37,
      "outputs": [
        {
          "output_type": "stream",
          "name": "stdout",
          "text": [
            "Enter a string: Tat\n",
            "Palindrome\n"
          ]
        }
      ]
    },
    {
      "cell_type": "code",
      "source": [
        "# Que 9 :- Write a function to reverse a list without using the built-in reverse() method.\n",
        "def reverseList(l):\n",
        "  copyList=[]\n",
        "  for ele in l[::-1]:\n",
        "    copyList.append(ele)\n",
        "  return copyList\n",
        "reverseList([1,2,3])"
      ],
      "metadata": {
        "colab": {
          "base_uri": "https://localhost:8080/"
        },
        "id": "pgn0Svv_fHcw",
        "outputId": "87b6fc66-ce49-4cd0-f3fe-e7db2049bc2a"
      },
      "execution_count": 30,
      "outputs": [
        {
          "output_type": "execute_result",
          "data": {
            "text/plain": [
              "[3, 2, 1]"
            ]
          },
          "metadata": {},
          "execution_count": 30
        }
      ]
    }
  ]
}