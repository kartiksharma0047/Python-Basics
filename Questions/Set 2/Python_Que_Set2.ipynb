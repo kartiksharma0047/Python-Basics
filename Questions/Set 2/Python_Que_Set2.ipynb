{
  "nbformat": 4,
  "nbformat_minor": 0,
  "metadata": {
    "colab": {
      "provenance": []
    },
    "kernelspec": {
      "name": "python3",
      "display_name": "Python 3"
    },
    "language_info": {
      "name": "python"
    }
  },
  "cells": [
    {
      "cell_type": "code",
      "execution_count": 11,
      "metadata": {
        "id": "k9PYpfX_n5_h"
      },
      "outputs": [],
      "source": [
        "# Python In Depth Questions (Level : Easy)"
      ]
    },
    {
      "cell_type": "code",
      "source": [
        "# Que 1 :- Create a class Student with the attributes name and grade.\n",
        "# Add a method get_details() that returns the student’s name and grade as a string.\n",
        "# Input Example: Student(\"Kartik\", \"A\")\n",
        "\n",
        "class Student():\n",
        "  def __init__(self,name,grade):\n",
        "    self.name=name\n",
        "    self.grade=grade\n",
        "  def get_details(self):\n",
        "    print(f\"Student Name: {self.name} and scored grade: {self.grade}\")\n",
        "stu1=Student(\"Kartik\",\"C\")\n",
        "stu1.get_details()"
      ],
      "metadata": {
        "colab": {
          "base_uri": "https://localhost:8080/"
        },
        "id": "ZEo9NTH-oDWg",
        "outputId": "e0742c69-4cb2-47d1-bf35-eb0bde5d4339"
      },
      "execution_count": 12,
      "outputs": [
        {
          "output_type": "stream",
          "name": "stdout",
          "text": [
            "Student Name: Kartik and scored grade: C\n"
          ]
        }
      ]
    },
    {
      "cell_type": "code",
      "source": [
        "# Que 2 :- Write a function that accepts any number of arguments and prints their sum using *args.\n",
        "def add_nums(*args):\n",
        "    return sum(args)\n",
        "print(add_nums(1, 2, 3,4))"
      ],
      "metadata": {
        "colab": {
          "base_uri": "https://localhost:8080/"
        },
        "id": "cngqp4hKgowl",
        "outputId": "5388ea26-061d-4e93-f26b-58845d92067a"
      },
      "execution_count": 13,
      "outputs": [
        {
          "output_type": "stream",
          "name": "stdout",
          "text": [
            "10\n"
          ]
        }
      ]
    },
    {
      "cell_type": "code",
      "source": [
        "# Que 3 :- Write a function that accepts any number of keyword arguments and prints them in the format using **kwargs:\n",
        "def get_info(**kwargs):\n",
        "  for key,value in kwargs.items():\n",
        "    print(f\"{key}:{value}\")\n",
        "get_info(name=\"kartik\",age=22)"
      ],
      "metadata": {
        "colab": {
          "base_uri": "https://localhost:8080/"
        },
        "id": "jKT-TbFTinlA",
        "outputId": "933d5482-ee5e-485b-c0ed-5f28b2b83e3f"
      },
      "execution_count": 17,
      "outputs": [
        {
          "output_type": "stream",
          "name": "stdout",
          "text": [
            "name:kartik\n",
            "age:22\n"
          ]
        }
      ]
    },
    {
      "cell_type": "code",
      "source": [
        "# Que 4 :- Use a list comprehension to create a list of squares of all even numbers from 1 to 20.\n",
        "squares_List=[x*x for x in range(1,21) if x%2==0]\n",
        "print(squares_List)"
      ],
      "metadata": {
        "colab": {
          "base_uri": "https://localhost:8080/"
        },
        "id": "BjWNY-MVnjYX",
        "outputId": "6be69c2d-0a76-4c06-e81d-1ad768fb5eb9"
      },
      "execution_count": 22,
      "outputs": [
        {
          "output_type": "stream",
          "name": "stdout",
          "text": [
            "[4, 16, 36, 64, 100, 144, 196, 256, 324, 400]\n"
          ]
        }
      ]
    },
    {
      "cell_type": "code",
      "source": [
        "# Que 5 :- Write a function using a lambda expression to check if a number is positive.\n",
        "check = lambda arg: \"Positive\" if arg > 0 else \"Negative\"\n",
        "print(check(-4))"
      ],
      "metadata": {
        "colab": {
          "base_uri": "https://localhost:8080/"
        },
        "id": "4JwJMKW7oLzm",
        "outputId": "16a06156-9389-496c-db19-ac6466923f1a"
      },
      "execution_count": 27,
      "outputs": [
        {
          "output_type": "stream",
          "name": "stdout",
          "text": [
            "Negative\n"
          ]
        }
      ]
    },
    {
      "cell_type": "code",
      "source": [
        "from ast import keyword\n",
        "# Que 6 :- Write a decorator function that prints \"Before function\" before calling the decorated function.\n",
        "# Apply it on a function greet() that prints \"Hello\"\n",
        "def dec(func):\n",
        "  def master_func(*args):\n",
        "    print(\"Before Function\")\n",
        "    func(*args)\n",
        "  return master_func\n",
        "\n",
        "@dec\n",
        "def greet():\n",
        "  print(\"Hello\")\n",
        "greet()"
      ],
      "metadata": {
        "colab": {
          "base_uri": "https://localhost:8080/"
        },
        "id": "-6WBxRaopIXg",
        "outputId": "0f79e722-f6b2-4c3f-b9ec-2b7202b30b20"
      },
      "execution_count": 29,
      "outputs": [
        {
          "output_type": "stream",
          "name": "stdout",
          "text": [
            "Before Function\n",
            "Hello\n"
          ]
        }
      ]
    },
    {
      "cell_type": "code",
      "source": [
        "# Que 7 :- Write a Python program to read a file, count how many times each word appears in it, and print the result as a dictionary.\n",
        "Data=open(\"/Practice.txt\",'r')\n",
        "text=Data.read()\n",
        "print(text)"
      ],
      "metadata": {
        "colab": {
          "base_uri": "https://localhost:8080/"
        },
        "id": "DWJTRms3q0J9",
        "outputId": "3fb1d999-097a-4d3d-fbc1-e7d5888af9e7"
      },
      "execution_count": 40,
      "outputs": [
        {
          "output_type": "stream",
          "name": "stdout",
          "text": [
            "Hi there this is a practice document.\n",
            "\n",
            "Just trying to read it via python.\n",
            "\n",
            "Good Luck!\n"
          ]
        }
      ]
    },
    {
      "cell_type": "code",
      "source": [
        "from os import replace\n",
        "from re import split\n",
        "text_list=split(\" \",text)\n",
        "text_list = split(r'\\W+', text)\n",
        "text_list = list(filter(None, text_list))\n",
        "text_list = [word.lower() for word in text_list]\n",
        "print(text_list)"
      ],
      "metadata": {
        "colab": {
          "base_uri": "https://localhost:8080/"
        },
        "id": "BTr9nSlGuueD",
        "outputId": "9e98e2e5-cfb0-4607-ba3c-91a6f8f650e5"
      },
      "execution_count": 53,
      "outputs": [
        {
          "output_type": "stream",
          "name": "stdout",
          "text": [
            "['hi', 'there', 'this', 'is', 'a', 'practice', 'document', 'just', 'trying', 'to', 'read', 'it', 'via', 'python', 'good', 'luck']\n"
          ]
        }
      ]
    },
    {
      "cell_type": "code",
      "source": [
        "# Now Count similar words occurence\n",
        "word_count = {}\n",
        "for word in text_list:\n",
        "    if word in word_count:\n",
        "        word_count[word] += 1\n",
        "    else:\n",
        "        word_count[word] = 1\n",
        "print(word_count)"
      ],
      "metadata": {
        "colab": {
          "base_uri": "https://localhost:8080/"
        },
        "id": "LTHcnB2MzOH1",
        "outputId": "ef35eb8f-6423-43e9-e57a-26cc0d744767"
      },
      "execution_count": 55,
      "outputs": [
        {
          "output_type": "stream",
          "name": "stdout",
          "text": [
            "{'hi': 1, 'there': 1, 'this': 1, 'is': 1, 'a': 1, 'practice': 1, 'document': 1, 'just': 1, 'trying': 1, 'to': 1, 'read': 1, 'it': 1, 'via': 1, 'python': 1, 'good': 1, 'luck': 1}\n"
          ]
        }
      ]
    },
    {
      "cell_type": "code",
      "source": [
        "# Que 8 :- Create a class Circle that takes a radius and has a method area() that returns the area of the circle.\n",
        "import math\n",
        "class Circle():\n",
        "  def __init__(self,radius):\n",
        "     self.r=radius\n",
        "  def area(self):\n",
        "    return math.pi*self.r*self.r\n",
        "circ1=Circle(3)\n",
        "circ1.area()"
      ],
      "metadata": {
        "colab": {
          "base_uri": "https://localhost:8080/"
        },
        "id": "lIFjVZP-0uNa",
        "outputId": "d6ca83fe-7262-4261-8c07-a5053a626f55"
      },
      "execution_count": 57,
      "outputs": [
        {
          "output_type": "execute_result",
          "data": {
            "text/plain": [
              "28.274333882308138"
            ]
          },
          "metadata": {},
          "execution_count": 57
        }
      ]
    },
    {
      "cell_type": "code",
      "source": [
        "# Que 9 :- Write a function that handles division of two numbers, and handles the ZeroDivisionError.\n",
        "def divide(num1,num2):\n",
        "  try:\n",
        "    print(num1/num2)\n",
        "  except ZeroDivisionError:\n",
        "    print(\"Cannot Divide By 0\")\n",
        "divide(10,0)"
      ],
      "metadata": {
        "colab": {
          "base_uri": "https://localhost:8080/"
        },
        "id": "JP7bgLNn1Y8k",
        "outputId": "3d2063e1-b5aa-4c5a-c37e-54f25ee3c608"
      },
      "execution_count": 65,
      "outputs": [
        {
          "output_type": "stream",
          "name": "stdout",
          "text": [
            "Cannot Divide By 0\n"
          ]
        }
      ]
    }
  ]
}